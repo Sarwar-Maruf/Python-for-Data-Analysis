{
 "cells": [
  {
   "cell_type": "markdown",
   "metadata": {},
   "source": [
    "# 3.Built-in Data Structures,Functions and Files"
   ]
  },
  {
   "cell_type": "code",
   "execution_count": 37,
   "metadata": {
    "scrolled": true
   },
   "outputs": [
    {
     "name": "stdout",
     "output_type": "stream",
     "text": [
      "Tuple: (5, 6, 7)\n",
      "((4, 5, 6), (7, 8))\n",
      "(1, 2, 3, 4)\n",
      "('S', 't', 'r', 'i', 'n', 'g')\n",
      "('foo', [1, 2, 3], True)\n",
      "('foo', [1, 2, 3], True, 'foo', [1, 2, 3], True, 'foo', [1, 2, 3], True, 'foo', [1, 2, 3], True)\n",
      "a=1,b=2,c=3\n",
      "a=4,b=5,c=6\n",
      "a=7,b=8,c=9\n",
      "1 2\n",
      "[3, 4, 5]\n",
      "1\n"
     ]
    }
   ],
   "source": [
    "### 3.1 ::: Data Structures and Sequences::: \n",
    "\n",
    "#Tuple:\n",
    "\n",
    "tup = 5,6,7\n",
    "print(\"Tuple:\",tup)\n",
    "nested_tup=(4,5,6),(7,8)\n",
    "print(nested_tup)\n",
    "tup=tuple([1,2,3,4])\n",
    "print(tup)\n",
    "type(tup)\n",
    "tup1=tuple('String')\n",
    "print(tup1)\n",
    "#%hist\n",
    "tup=tuple(['foo',[1,2],True])\n",
    "tup[1].append(3)\n",
    "print(tup)\n",
    "print(tup*4)\n",
    "a,b,c=tup #unpacking tuples\n",
    "a,b,c\n",
    "b\n",
    "c\n",
    "\n",
    "seq=[(1,2,3),(4,5,6),(7,8,9)]\n",
    "for a,b,c in seq:\n",
    "    print('a={0},b={1},c={2}'.format(a,b,c))\n",
    "value=(1,2,3,4,5)\n",
    "a,b,*rest=value\n",
    "print(a,b)\n",
    "print(rest)\n",
    "type(rest)\n",
    "\n",
    "print(value.count(1))"
   ]
  },
  {
   "cell_type": "code",
   "execution_count": 99,
   "metadata": {},
   "outputs": [
    {
     "name": "stdout",
     "output_type": "stream",
     "text": [
      "bar\n",
      "range(10, 50)\n",
      "[10, 11, 12, 13, 14, 15, 16, 17, 18, 19, 20, 21, 22, 23, 24, 25, 26, 27, 28, 29, 30, 31, 32, 33, 34, 35, 36, 37, 38, 39, 40, 41, 42, 43, 44, 45, 46, 47, 48, 49]\n",
      "[2, 3, 7, None, 50]\n",
      "[2, 9, 3, 7, None, 50]\n",
      "buz\n",
      "['foo', 'bar']\n",
      "['bar']\n",
      "[1, 3, 5, 6, 7, 25, 63]\n",
      "['alif', 'maruf', 'kabbo', 'Rakib', 'sarwar']\n",
      "total: 5\n",
      "[1, 5, 2, 2, 2, 3, 4, 7]\n",
      "[7, 2, 3, 7]\n",
      "[1, 0, 6, 5, 7, 3, 2, 7]\n"
     ]
    }
   ],
   "source": [
    "### List :::\n",
    "\n",
    "a_list=[2,3,7,None]\n",
    "tup=('foo','bar','buz')\n",
    "b_list=tup\n",
    "b_list=list(tup)\n",
    "print(b_list[1])\n",
    "gen=range(10,50)\n",
    "print(gen)\n",
    "print(list(gen))\n",
    "a_list.append(50)\n",
    "print(a_list)\n",
    "a_list.insert(1,9)\n",
    "print(a_list)\n",
    "print(b_list.pop(2))\n",
    "print(b_list)\n",
    "b_list.remove('foo')\n",
    "print(b_list)\n",
    "'bar' in b_list\n",
    "\n",
    "### Sorting ::::\n",
    "\n",
    "a=[1,5,63,6,7,3,25]\n",
    "a.sort()\n",
    "print(a)\n",
    "b=['sarwar','maruf','alif',\"kabbo\",\"Rakib\"]\n",
    "b.sort(key=len)\n",
    "print(b)\n",
    "\n",
    "# Binary search & maintaining a sorted list:::\n",
    "\n",
    "import bisect\n",
    "\n",
    "c=[1,5,2,2,2,3,4,7]\n",
    "print('total:',bisect.bisect(c,2))\n",
    "print(c)\n",
    "bisect.insort(c,6)\n",
    "\n",
    "### Slicing :::\n",
    "\n",
    "seq=[7,2,3,7,5,6,0,1]\n",
    "print(seq[0:4])\n",
    "print(seq[::-1]) # reversed"
   ]
  },
  {
   "cell_type": "code",
   "execution_count": null,
   "metadata": {},
   "outputs": [],
   "source": []
  }
 ],
 "metadata": {
  "kernelspec": {
   "display_name": "Python 3",
   "language": "python",
   "name": "python3"
  },
  "language_info": {
   "codemirror_mode": {
    "name": "ipython",
    "version": 3
   },
   "file_extension": ".py",
   "mimetype": "text/x-python",
   "name": "python",
   "nbconvert_exporter": "python",
   "pygments_lexer": "ipython3",
   "version": "3.7.3"
  }
 },
 "nbformat": 4,
 "nbformat_minor": 2
}
