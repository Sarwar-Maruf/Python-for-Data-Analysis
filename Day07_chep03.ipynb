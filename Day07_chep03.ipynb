{
 "cells": [
  {
   "cell_type": "markdown",
   "metadata": {},
   "source": [
    "# 3.Built-in Data Structures,Functions and Files"
   ]
  },
  {
   "cell_type": "code",
   "execution_count": 8,
   "metadata": {},
   "outputs": [
    {
     "name": "stdout",
     "output_type": "stream",
     "text": [
      "{1, 2, 3}\n",
      "['BAT', 'CAR', 'DOVE', 'PYTHON']\n",
      "['JEBON', 'KABBO', 'RATUL', 'ALIF', 'RAKIB', 'BEBUN']\n"
     ]
    }
   ],
   "source": [
    "### set :::\n",
    "\n",
    "a=set([2,2,2,1,3,3])\n",
    "print(a)\n",
    "\n",
    "### List,set,dict comprehension :::\n",
    "strings= ['a','as','bat','car','dove','python']\n",
    "print([x.upper() for x in strings if len(x)>2])\n",
    "names=['jebon','Kabbo','Ratul','alif','Rakib','Bebun','Don']\n",
    "print([x.upper() for x in names if len(x)>3])\n",
    "\n"
   ]
  },
  {
   "cell_type": "markdown",
   "metadata": {},
   "source": [
    "# 3.2: Functions :"
   ]
  },
  {
   "cell_type": "code",
   "execution_count": 2,
   "metadata": {},
   "outputs": [
    {
     "name": "stdout",
     "output_type": "stream",
     "text": [
      "5 6 7\n",
      "5 6 7\n",
      "5 6 7\n"
     ]
    }
   ],
   "source": [
    "def f():\n",
    "    a=5\n",
    "    b=6\n",
    "    c=7\n",
    "    return a,b,c\n",
    "a,b,c=f()\n",
    "print(a,b,c)\n",
    "return_value=f()\n",
    "print(a,b,c)\n",
    "\n",
    "def f():\n",
    "    a=5\n",
    "    b=6\n",
    "    c=7\n",
    "    return{'a':a,\"b\":b,'c':c}\n",
    "return_values=f()\n",
    "print(a,b,c)  "
   ]
  },
  {
   "cell_type": "code",
   "execution_count": 27,
   "metadata": {},
   "outputs": [
    {
     "name": "stdout",
     "output_type": "stream",
     "text": [
      "['Alabama', 'Georgia', 'Georgia', 'Georgia', 'Florida', 'South Carolina', 'West Virginia']\n"
     ]
    }
   ],
   "source": [
    "### Function are object :::\n",
    "import re\n",
    "\n",
    "def clean_strings(strings):\n",
    "    result=[]\n",
    "    for value in strings:\n",
    "        value =value.strip()\n",
    "        value=re.sub('[!#?]','',value)\n",
    "        value=value.title()\n",
    "        result.append(value)\n",
    "    return result\n",
    "    \n",
    "states =[ 'Alabama','Georgia!','Georgia','georgia','FlOrIda','south carolina##','West virginia?']\n",
    "\n",
    "\n",
    "wow=clean_strings(states)\n",
    "print(wow)\n"
   ]
  },
  {
   "cell_type": "code",
   "execution_count": 4,
   "metadata": {},
   "outputs": [
    {
     "name": "stdout",
     "output_type": "stream",
     "text": [
      "[8, 0, 2, 10, 12]\n",
      "['aaaa', 'foo', 'abab', 'bar', 'card']\n"
     ]
    }
   ],
   "source": [
    "### Anonymous Lambda functions :::\n",
    "\n",
    "equiv_anon=lambda x: x*2  ##def short_function(x):\n",
    "                          #   return x*2\n",
    "\n",
    "    \n",
    "def apply_to_list(some_list,f):\n",
    "        return[f(x) for x in some_list]\n",
    "    \n",
    "ints=[4,0,1,5,6]\n",
    "print(apply_to_list(ints,lambda x:x*2))\n",
    "\n",
    "strings=['foo','card','bar','aaaa','abab']\n",
    "strings.sort(key=lambda x:len(set(list(x))))\n",
    "print(strings)"
   ]
  }
 ],
 "metadata": {
  "kernelspec": {
   "display_name": "Python 3",
   "language": "python",
   "name": "python3"
  },
  "language_info": {
   "codemirror_mode": {
    "name": "ipython",
    "version": 3
   },
   "file_extension": ".py",
   "mimetype": "text/x-python",
   "name": "python",
   "nbconvert_exporter": "python",
   "pygments_lexer": "ipython3",
   "version": "3.7.3"
  }
 },
 "nbformat": 4,
 "nbformat_minor": 2
}
