{
 "cells": [
  {
   "cell_type": "markdown",
   "metadata": {},
   "source": [
    "# 3.Built-in Data Structures,Functions and Files"
   ]
  },
  {
   "cell_type": "code",
   "execution_count": 24,
   "metadata": {},
   "outputs": [
    {
     "name": "stdout",
     "output_type": "stream",
     "text": [
      "{'a': 'some value', 'b': [1, 2, 3, 4]}\n",
      "{'a': 'some value', 'b': [1, 2, 3, 4], 7: 'an integer'}\n",
      "[1, 2, 3, 4]\n",
      "True\n",
      "{'a': 'some value', 'b': [1, 2, 3, 4], 7: 'an integer', 5: 'some value', 'dummy': 'another value'}\n",
      "{'a': 'some value', 'b': [1, 2, 3, 4], 7: 'an integer', 'dummy': 'another value'}\n",
      "another value\n",
      "{'a': 'some value', 'b': [1, 2, 3, 4], 7: 'an integer'}\n",
      "['a', 'b', 7]\n",
      "['some value', [1, 2, 3, 4], 'an integer']\n",
      "{'a': 'some value', 'b': 'foo', 7: 'an integer', 'c': 12}\n"
     ]
    }
   ],
   "source": [
    "# Dictionary Data Sturcture:\n",
    "\n",
    "empty_dict={}\n",
    "d1={'a':'some value','b':[1,2,3,4]}\n",
    "print(d1)\n",
    "d1[7]='an integer'\n",
    "print(d1)\n",
    "d1[5]='some value'\n",
    "print(d1['b'])\n",
    "print('b' in d1)\n",
    "d1['dummy']=\"another value\"\n",
    "print(d1)\n",
    "del d1[5]\n",
    "print(d1)\n",
    "ret=d1.pop('dummy')\n",
    "print(ret)\n",
    "print(d1)\n",
    "print(list(d1.keys()))\n",
    "print(list(d1.values()))\n",
    "d1.update({'b':'foo','c':12})\n",
    "print(d1)"
   ]
  },
  {
   "cell_type": "code",
   "execution_count": 52,
   "metadata": {},
   "outputs": [
    {
     "name": "stdout",
     "output_type": "stream",
     "text": [
      "{0: 4, 1: 3, 2: 2, 3: 1, 4: 0}\n",
      "{'a': ['apply', 'atom'], 'b': ['bat', 'book']}\n",
      "1097636502276347782\n",
      "{(1, 2, 3): 5}\n"
     ]
    }
   ],
   "source": [
    "### Creating dicts from sequences :::\n",
    "\n",
    "mapping = dict(zip(range(5),reversed(range(5))))\n",
    "print(mapping)\n",
    "## default value :::\n",
    "words=['apply','bat','atom','book']\n",
    "by_letter={}\n",
    "for word in words:\n",
    "    letter=word[0]\n",
    "    if letter not in by_letter:\n",
    "        by_letter[letter]=[word]\n",
    "    else:\n",
    "        by_letter[letter].append(word)\n",
    "print(by_letter)\n",
    "\n",
    "## hashability checking:\n",
    "\n",
    "hash('string')\n",
    "print(hash((1,2,(2,3))))\n",
    "# print(hash(1,2,[2,3])) #Because mutable objects included\n",
    "\n",
    "d={}\n",
    "d[tuple([1,2,3])]=5\n",
    "print(d)\n"
   ]
  },
  {
   "cell_type": "code",
   "execution_count": null,
   "metadata": {},
   "outputs": [],
   "source": []
  }
 ],
 "metadata": {
  "kernelspec": {
   "display_name": "Python 3",
   "language": "python",
   "name": "python3"
  },
  "language_info": {
   "codemirror_mode": {
    "name": "ipython",
    "version": 3
   },
   "file_extension": ".py",
   "mimetype": "text/x-python",
   "name": "python",
   "nbconvert_exporter": "python",
   "pygments_lexer": "ipython3",
   "version": "3.7.3"
  }
 },
 "nbformat": 4,
 "nbformat_minor": 2
}
