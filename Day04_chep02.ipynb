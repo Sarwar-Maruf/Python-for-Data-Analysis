{
 "cells": [
  {
   "cell_type": "markdown",
   "metadata": {},
   "source": [
    "# 2.2 : Python language basics\n"
   ]
  },
  {
   "cell_type": "code",
   "execution_count": 34,
   "metadata": {
    "scrolled": true
   },
   "outputs": [
    {
     "name": "stdout",
     "output_type": "stream",
     "text": [
      "True\n",
      "False\n",
      "True\n",
      "False\n",
      "True\n",
      "False\n",
      "29\n",
      "20\n",
      "21\n",
      "2019-10-29\n",
      "20:30:21\n",
      "29/10/2019 20:30:21\n",
      "61 days, 0:00:00\n",
      "2019-12-29 20:30:21\n"
     ]
    }
   ],
   "source": [
    "#Bytes & Unicode:(***later)\n",
    "\n",
    "#Boolean:::\n",
    "\n",
    "print(True and True)\n",
    "print(False and True)\n",
    "print(False or True)\n",
    "print(False and False)\n",
    "print(True or True)\n",
    "print(False or False)\n",
    "\n",
    "### Dates & Times:::\n",
    "#help('datetime')\n",
    "from datetime import datetime,date,time\n",
    "dt=datetime(2019,10,29,20,30,21)\n",
    "print(dt.day)\n",
    "print(dt.hour)\n",
    "print(dt.second)\n",
    "print(dt.date())\n",
    "print(dt.time())\n",
    "\n",
    "print(dt.strftime('%d/%m/%Y %H:%M:%S'))\n",
    "dt2=datetime(2019,12,29,20,30,21)\n",
    "delta= dt2-dt\n",
    "print(delta)\n",
    "print(delta+dt)"
   ]
  },
  {
   "cell_type": "code",
   "execution_count": 3,
   "metadata": {},
   "outputs": [
    {
     "name": "stdout",
     "output_type": "stream",
     "text": [
      "13\n",
      "[1, 2, 3, 4, 5, 6, 7, 8, 9]\n",
      "Non-Negetive\n"
     ]
    }
   ],
   "source": [
    "sequence=[1,2,0,4,6,5,2,1]\n",
    "total_untill5=0\n",
    "for value in sequence:\n",
    "    if value ==5:\n",
    "        break\n",
    "    total_untill5+=value\n",
    "print(total_untill5)\n",
    "range(1,10)\n",
    "a=list(range(1,10))\n",
    "print(a)\n",
    "\n",
    "### Ternary Expression:::\n",
    "z=1\n",
    "k='Non-Negetive' if z>=0 else \"negetive\"\n",
    "print(k)"
   ]
  },
  {
   "cell_type": "code",
   "execution_count": 6,
   "metadata": {
    "scrolled": true
   },
   "outputs": [
    {
     "name": "stdout",
     "output_type": "stream",
     "text": [
      "63245986\n"
     ]
    }
   ],
   "source": [
    "#fibonacci:::\n",
    "\n",
    "\n",
    "def Fibonacci(n): \n",
    "    if n<0: \n",
    "        print(\"Incorrect input\") \n",
    "   \n",
    "    elif n==1: \n",
    "        return 0\n",
    "   \n",
    "    elif n==2: \n",
    "        return 1\n",
    "    else: \n",
    "        return Fibonacci(n-1)+Fibonacci(n-2) \n",
    "  \n",
    "\n",
    "  \n",
    "print(Fibonacci(40)) \n",
    "\n"
   ]
  },
  {
   "cell_type": "code",
   "execution_count": 8,
   "metadata": {},
   "outputs": [
    {
     "name": "stdout",
     "output_type": "stream",
     "text": [
      "Tuple: (5, 6, 7)\n",
      "((4, 5, 6), (7, 8))\n"
     ]
    },
    {
     "data": {
      "text/plain": [
       "tuple"
      ]
     },
     "execution_count": 8,
     "metadata": {},
     "output_type": "execute_result"
    }
   ],
   "source": [
    "### 3.1 ::: Data Structures and Sequences::: \n",
    "\n",
    "#Tuple:\n",
    "\n",
    "tup = 5,6,7\n",
    "print(\"Tuple:\",tup)\n",
    "nested_tup=(4,5,6),(7,8)\n",
    "print(nested_tup)\n",
    "tup=tuple([1,2,3,4])\n",
    "type(tup)"
   ]
  }
 ],
 "metadata": {
  "kernelspec": {
   "display_name": "Python 3",
   "language": "python",
   "name": "python3"
  },
  "language_info": {
   "codemirror_mode": {
    "name": "ipython",
    "version": 3
   },
   "file_extension": ".py",
   "mimetype": "text/x-python",
   "name": "python",
   "nbconvert_exporter": "python",
   "pygments_lexer": "ipython3",
   "version": "3.7.3"
  }
 },
 "nbformat": 4,
 "nbformat_minor": 2
}
