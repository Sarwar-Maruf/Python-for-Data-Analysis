{
 "cells": [
  {
   "cell_type": "markdown",
   "metadata": {},
   "source": [
    "# 2.2 : python language basics\n"
   ]
  },
  {
   "cell_type": "code",
   "execution_count": 34,
   "metadata": {
    "scrolled": true
   },
   "outputs": [
    {
     "name": "stdout",
     "output_type": "stream",
     "text": [
      "True\n",
      "False\n",
      "True\n",
      "False\n",
      "True\n",
      "False\n",
      "29\n",
      "20\n",
      "21\n",
      "2019-10-29\n",
      "20:30:21\n",
      "29/10/2019 20:30:21\n",
      "61 days, 0:00:00\n",
      "2019-12-29 20:30:21\n"
     ]
    }
   ],
   "source": [
    "#Bytes & Unicode:(***later)\n",
    "\n",
    "#Boolean:::\n",
    "\n",
    "print(True and True)\n",
    "print(False and True)\n",
    "print(False or True)\n",
    "print(False and False)\n",
    "print(True or True)\n",
    "print(False or False)\n",
    "\n",
    "### Dates & Times:::\n",
    "#help('datetime')\n",
    "from datetime import datetime,date,time\n",
    "dt=datetime(2019,10,29,20,30,21)\n",
    "print(dt.day)\n",
    "print(dt.hour)\n",
    "print(dt.second)\n",
    "print(dt.date())\n",
    "print(dt.time())\n",
    "\n",
    "print(dt.strftime('%d/%m/%Y %H:%M:%S'))\n",
    "dt2=datetime(2019,12,29,20,30,21)\n",
    "delta= dt2-dt\n",
    "print(delta)\n",
    "print(delta+dt)"
   ]
  },
  {
   "cell_type": "code",
   "execution_count": 35,
   "metadata": {},
   "outputs": [
    {
     "name": "stdout",
     "output_type": "stream",
     "text": [
      "13\n"
     ]
    }
   ],
   "source": [
    "sequence=[1,2,0,4,6,5,2,1]\n",
    "total_untill5=0\n",
    "for value in sequence:\n",
    "    if value ==5:\n",
    "        break\n",
    "    total_untill5+=value\n",
    "print(total_untill5)"
   ]
  }
 ],
 "metadata": {
  "kernelspec": {
   "display_name": "Python 3",
   "language": "python",
   "name": "python3"
  },
  "language_info": {
   "codemirror_mode": {
    "name": "ipython",
    "version": 3
   },
   "file_extension": ".py",
   "mimetype": "text/x-python",
   "name": "python",
   "nbconvert_exporter": "python",
   "pygments_lexer": "ipython3",
   "version": "3.7.3"
  }
 },
 "nbformat": 4,
 "nbformat_minor": 2
}
