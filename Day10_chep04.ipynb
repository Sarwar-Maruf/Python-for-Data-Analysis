{
 "cells": [
  {
   "cell_type": "markdown",
   "metadata": {},
   "source": [
    "# 4. Numpy Basics:Arrays and Vectorized Computation"
   ]
  },
  {
   "cell_type": "code",
   "execution_count": 42,
   "metadata": {
    "scrolled": false
   },
   "outputs": [
    {
     "name": "stdout",
     "output_type": "stream",
     "text": [
      "['Bob' 'Joe' 'Will' 'Bob' 'Will' 'Joe' 'Joe']\n",
      "[[ 0.06386718  0.14224836  0.90759935 -0.61053109]\n",
      " [-3.00837718  0.77660292  1.64888462  0.40361844]\n",
      " [ 0.79821769  0.33923473 -0.76100305  0.76995936]\n",
      " [-0.64673316  0.60632043  1.37277034  0.20452923]\n",
      " [ 1.60126546  0.48575017 -0.20236747 -0.85025139]\n",
      " [-0.71338393  0.02372535  0.67342723  1.03237267]\n",
      " [-1.25228776 -0.28772905  0.45523375  0.39651917]]\n",
      "[ True False False  True False False False]\n",
      "[[ 0.06386718  0.14224836  0.90759935 -0.61053109]\n",
      " [-0.64673316  0.60632043  1.37277034  0.20452923]]\n",
      "[[ 0.90759935 -0.61053109]\n",
      " [ 1.37277034  0.20452923]]\n",
      "[-0.61053109  0.20452923]\n",
      "[False  True  True False  True  True  True]\n",
      "[[-3.00837718  0.77660292  1.64888462  0.40361844]\n",
      " [ 0.79821769  0.33923473 -0.76100305  0.76995936]\n",
      " [ 1.60126546  0.48575017 -0.20236747 -0.85025139]\n",
      " [-0.71338393  0.02372535  0.67342723  1.03237267]\n",
      " [-1.25228776 -0.28772905  0.45523375  0.39651917]]\n",
      "[[-3.00837718  0.77660292  1.64888462  0.40361844]\n",
      " [ 0.79821769  0.33923473 -0.76100305  0.76995936]\n",
      " [ 1.60126546  0.48575017 -0.20236747 -0.85025139]\n",
      " [-0.71338393  0.02372535  0.67342723  1.03237267]\n",
      " [-1.25228776 -0.28772905  0.45523375  0.39651917]]\n",
      "[ True False  True  True  True False False]\n",
      "[[ 0.06386718  0.14224836  0.90759935 -0.61053109]\n",
      " [ 0.79821769  0.33923473 -0.76100305  0.76995936]\n",
      " [-0.64673316  0.60632043  1.37277034  0.20452923]\n",
      " [ 1.60126546  0.48575017 -0.20236747 -0.85025139]]\n",
      "[[0.06386718 0.14224836 0.90759935 0.        ]\n",
      " [0.         0.77660292 1.64888462 0.40361844]\n",
      " [0.79821769 0.33923473 0.         0.76995936]\n",
      " [0.         0.60632043 1.37277034 0.20452923]\n",
      " [1.60126546 0.48575017 0.         0.        ]\n",
      " [0.         0.02372535 0.67342723 1.03237267]\n",
      " [0.         0.         0.45523375 0.39651917]]\n",
      "[[7.         7.         7.         7.        ]\n",
      " [0.         0.77660292 1.64888462 0.40361844]\n",
      " [7.         7.         7.         7.        ]\n",
      " [7.         7.         7.         7.        ]\n",
      " [7.         7.         7.         7.        ]\n",
      " [0.         0.02372535 0.67342723 1.03237267]\n",
      " [0.         0.         0.45523375 0.39651917]]\n"
     ]
    }
   ],
   "source": [
    "# Boolean Indexing :\n",
    "\n",
    "import numpy as np\n",
    "names = np.array(['Bob','Joe','Will','Bob','Will','Joe','Joe'])\n",
    "data = np.random.randn(7,4)\n",
    "print(names)\n",
    "print(data)\n",
    "print(names == 'Bob')\n",
    "a=data[names == 'Bob']\n",
    "print(a)\n",
    "print(data[names=='Bob',2:])\n",
    "print(data[names=='Bob',3])\n",
    "c=names != 'Bob'\n",
    "print(c)\n",
    "print(data[~(names == 'Bob')])\n",
    "condi=names=='Bob'\n",
    "print(data[~condi])\n",
    "mask=(names == 'Bob')|(names == 'Will')\n",
    "print(mask)\n",
    "print(data[mask])\n",
    "data[data<0]=0\n",
    "print(data)\n",
    "data[names != 'Joe']=7\n",
    "print(data)"
   ]
  },
  {
   "cell_type": "markdown",
   "metadata": {},
   "source": [
    "### Fancy Indexing"
   ]
  },
  {
   "cell_type": "code",
   "execution_count": 9,
   "metadata": {
    "scrolled": true
   },
   "outputs": [
    {
     "name": "stdout",
     "output_type": "stream",
     "text": [
      "[[0. 0. 0. 0.]\n",
      " [1. 1. 1. 1.]\n",
      " [2. 2. 2. 2.]\n",
      " [3. 3. 3. 3.]\n",
      " [4. 4. 4. 4.]\n",
      " [5. 5. 5. 5.]\n",
      " [6. 6. 6. 6.]\n",
      " [7. 7. 7. 7.]]\n",
      "[[4. 4. 4. 4.]\n",
      " [3. 3. 3. 3.]\n",
      " [0. 0. 0. 0.]\n",
      " [6. 6. 6. 6.]]\n",
      "[[ 0  1  2  3]\n",
      " [ 4  5  6  7]\n",
      " [ 8  9 10 11]\n",
      " [12 13 14 15]\n",
      " [16 17 18 19]\n",
      " [20 21 22 23]\n",
      " [24 25 26 27]\n",
      " [28 29 30 31]]\n"
     ]
    }
   ],
   "source": [
    "import numpy as np\n",
    "arr = np.empty((8,4))\n",
    "for i in range(8):\n",
    "    arr[i]=i\n",
    "print(arr)\n",
    "print(arr[[4,3,0,6]])\n",
    "arr=np.arange(32).reshape((8,4))\n",
    "print(arr)"
   ]
  },
  {
   "cell_type": "code",
   "execution_count": 37,
   "metadata": {},
   "outputs": [
    {
     "name": "stdout",
     "output_type": "stream",
     "text": [
      "[590, 500, 740, 350, 130, 130, 320, 230, 470, 670, 770, 250]\n"
     ]
    },
    {
     "data": {
      "image/png": "[encoded data removed]",
      "text/plain": [
       "<Figure size 432x288 with 1 Axes>"
      ]
     },
     "metadata": {
      "needs_background": "light"
     },
     "output_type": "display_data"
    }
   ],
   "source": [
    "import matplotlib.pyplot as plt\n",
    "\n",
    "X = [590,500,740,350,810,300,320,230,470,670,770,250]\n",
    "X[3:6]=[350,130,130]\n",
    "print(X)\n",
    "Y = [32,30,39,30,61,72,77,75,68,36,48,37]\n",
    "plt.scatter(X,Y)\n",
    "plt.show()"
   ]
  },
  {
   "cell_type": "code",
   "execution_count": null,
   "metadata": {},
   "outputs": [],
   "source": []
  }
 ],
 "metadata": {
  "kernelspec": {
   "display_name": "Python 3",
   "language": "python",
   "name": "python3"
  },
  "language_info": {
   "codemirror_mode": {
    "name": "ipython",
    "version": 3
   },
   "file_extension": ".py",
   "mimetype": "text/x-python",
   "name": "python",
   "nbconvert_exporter": "python",
   "pygments_lexer": "ipython3",
   "version": "3.7.3"
  }
 },
 "nbformat": 4,
 "nbformat_minor": 2
}
