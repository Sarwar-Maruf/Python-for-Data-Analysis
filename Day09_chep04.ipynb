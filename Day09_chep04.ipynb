{
 "cells": [
  {
   "cell_type": "markdown",
   "metadata": {},
   "source": [
    "# 4. Numpy Basics:Arrays and Vectorized Computation"
   ]
  },
  {
   "cell_type": "code",
   "execution_count": 68,
   "metadata": {
    "scrolled": true
   },
   "outputs": [
    {
     "name": "stdout",
     "output_type": "stream",
     "text": [
      "My List : [0, 1, 2, 3, 4, 5, 6, 7, 8, 9, 10, 11, 12, 13, 14, 15, 16, 17, 18, 19, 20, 21, 22, 23, 24, 25, 26, 27, 28, 29, 30, 31, 32, 33, 34, 35, 36, 37, 38, 39, 40, 41, 42, 43, 44, 45, 46, 47, 48, 49, 50]\n",
      "Wall time: 0 ns\n",
      "Wall time: 0 ns\n",
      "[0, 2, 4, 6, 8, 10, 12, 14, 16, 18, 20, 22, 24, 26, 28, 30, 32, 34, 36, 38, 40, 42, 44, 46, 48, 50, 52, 54, 56, 58, 60, 62, 64, 66, 68, 70, 72, 74, 76, 78, 80, 82, 84, 86, 88, 90, 92, 94, 96, 98, 100]\n",
      "[  0   2   4   6   8  10  12  14  16  18  20  22  24  26  28  30  32  34\n",
      "  36  38  40  42  44  46  48  50  52  54  56  58  60  62  64  66  68  70\n",
      "  72  74  76  78  80  82  84  86  88  90  92  94  96  98 100]\n"
     ]
    }
   ],
   "source": [
    "import numpy as np\n",
    "my_arr = np.arange(51)\n",
    "my_list = list(range(51))\n",
    "print(\"My List :\",my_list)\n",
    "#print(my_list)\n",
    "%time for _ in range(10): my_arr2 = my_arr*2\n",
    "%time for _ in range(10): my_list2= [x*2 for x in my_list]\n",
    "print(my_list2)\n",
    "print(my_arr2)\n"
   ]
  },
  {
   "cell_type": "markdown",
   "metadata": {},
   "source": [
    "### 4.1 : TheNumPy ndarray : A Multidimentional Array Object"
   ]
  },
  {
   "cell_type": "code",
   "execution_count": 121,
   "metadata": {},
   "outputs": [
    {
     "name": "stdout",
     "output_type": "stream",
     "text": [
      "[[-0.83910595 -0.51289283 -0.1965801 ]\n",
      " [ 0.43206979  0.36333538  0.55242161]]\n",
      "[[-8.39105947 -5.12892826 -1.96580096]\n",
      " [ 4.32069786  3.63335383  5.52421612]]\n",
      "[[-1.67821189 -1.02578565 -0.39316019]\n",
      " [ 0.86413957  0.72667077  1.10484322]]\n",
      "Shape of the array: (2, 3)\n",
      "float64\n",
      "[6.  7.5 8.  0.  1. ]\n",
      "[[1 2 3 4]\n",
      " [5 6 7 8]]\n",
      "2\n",
      "(2, 4)\n",
      "int32 float64\n",
      "[0. 0. 0. 0. 0. 0. 0. 0. 0. 0.]\n",
      "[[0. 0. 0. 0. 0. 0.]\n",
      " [0. 0. 0. 0. 0. 0.]\n",
      " [0. 0. 0. 0. 0. 0.]]\n",
      "[[[0. 0. 0. 0. 0. 0.]\n",
      "  [0. 0. 0. 0. 0. 0.]\n",
      "  [0. 0. 0. 0. 0. 0.]]\n",
      "\n",
      " [[0. 0. 0. 0. 0. 0.]\n",
      "  [0. 0. 0. 0. 0. 0.]\n",
      "  [0. 0. 0. 0. 0. 0.]]]\n",
      "[ 0  1  2  3  4  5  6  7  8  9 10 11 12 13 14]\n",
      "[[1. 0. 0. 0.]\n",
      " [0. 1. 0. 0.]\n",
      " [0. 0. 1. 0.]\n",
      " [0. 0. 0. 1.]]\n"
     ]
    }
   ],
   "source": [
    "import numpy as np\n",
    "data = np.random.randn(2,3)\n",
    "print(data)\n",
    "print(data*10)\n",
    "print(data+data)\n",
    "print(\"Shape of the array:\",data.shape)\n",
    "print(data.dtype) \n",
    "\n",
    "### Creating ndarrays :::\n",
    "\n",
    "data1 = [6,7.5,8,0,1]\n",
    "arr1=np.array(data1)\n",
    "print(arr1)\n",
    "data2 = [[1,2,3,4,],[5,6,7,8]]\n",
    "arr2 = np.array(data2) #data2 is list of lists(2D)\n",
    "print(arr2)\n",
    "m=arr2.ndim\n",
    "print(m)\n",
    "print(arr2.shape)\n",
    "o=arr2.dtype\n",
    "p=arr1.dtype\n",
    "print(o,p)\n",
    "a=np.zeros(10)\n",
    "print(a)\n",
    "a=np.zeros((3,6))\n",
    "print(a)\n",
    "a=np.zeros((2,3,6))\n",
    "print(a)\n",
    "a=np.arange(15)\n",
    "print(a)\n",
    "a=np.eye((4))\n",
    "print(a)"
   ]
  },
  {
   "cell_type": "markdown",
   "metadata": {},
   "source": [
    "### Data types of ndarrays:"
   ]
  },
  {
   "cell_type": "code",
   "execution_count": 150,
   "metadata": {},
   "outputs": [
    {
     "name": "stdout",
     "output_type": "stream",
     "text": [
      "[1. 2. 3.]\n",
      "float64\n",
      "[1 2 3]\n",
      "int32\n",
      "[1. 2. 3.]\n",
      "float64\n",
      "[3.5 6.5 7.5 8.5] float64\n",
      "[3 6 7 8] int64\n",
      "[b'3.5' b'6.5' b'7.5' b'8.5'] |S3\n",
      "[3.5 6.5 7.5 8.5]\n",
      "|S3\n"
     ]
    }
   ],
   "source": [
    "arr1 = np.array([1,2,3],dtype = np.float64)\n",
    "arr2 = np.array([1,2,3],dtype = np.int32)\n",
    "print(arr1)\n",
    "print(arr1.dtype)\n",
    "print(arr2)\n",
    "print(arr2.dtype)\n",
    "float_arr2=arr2.astype(np.float64)\n",
    "print(float_arr2)\n",
    "print(float_arr2.dtype)\n",
    "arr4=np.array([3.5,6.5,7.5,8.5])\n",
    "print(arr4,arr4.dtype)\n",
    "arr4=arr4.astype(np.int64)\n",
    "print(arr4,arr4.dtype)\n",
    "arr5=np.array([\"3.5\",'6.5','7.5','8.5'],dtype =np.string_)\n",
    "print(arr5,arr5.dtype)\n",
    "print(arr5.astype(np.float64))\n",
    "print(arr5.dtype)\n"
   ]
  }
 ],
 "metadata": {
  "kernelspec": {
   "display_name": "Python 3",
   "language": "python",
   "name": "python3"
  },
  "language_info": {
   "codemirror_mode": {
    "name": "ipython",
    "version": 3
   },
   "file_extension": ".py",
   "mimetype": "text/x-python",
   "name": "python",
   "nbconvert_exporter": "python",
   "pygments_lexer": "ipython3",
   "version": "3.7.3"
  }
 },
 "nbformat": 4,
 "nbformat_minor": 2
}
