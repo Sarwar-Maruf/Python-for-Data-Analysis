{
 "cells": [
  {
   "cell_type": "markdown",
   "metadata": {},
   "source": [
    "# 4. Numpy Basics:Arrays and Vectorized Computation"
   ]
  },
  {
   "cell_type": "code",
   "execution_count": 3,
   "metadata": {
    "scrolled": true
   },
   "outputs": [
    {
     "name": "stdout",
     "output_type": "stream",
     "text": [
      "My List : [0, 1, 2, 3, 4, 5, 6, 7, 8, 9, 10, 11, 12, 13, 14, 15, 16, 17, 18, 19, 20, 21, 22, 23, 24, 25, 26, 27, 28, 29, 30, 31, 32, 33, 34, 35, 36, 37, 38, 39, 40, 41, 42, 43, 44, 45, 46, 47, 48, 49, 50]\n",
      "Wall time: 0 ns\n",
      "Wall time: 0 ns\n",
      "[0, 2, 4, 6, 8, 10, 12, 14, 16, 18, 20, 22, 24, 26, 28, 30, 32, 34, 36, 38, 40, 42, 44, 46, 48, 50, 52, 54, 56, 58, 60, 62, 64, 66, 68, 70, 72, 74, 76, 78, 80, 82, 84, 86, 88, 90, 92, 94, 96, 98, 100]\n",
      "[  0   2   4   6   8  10  12  14  16  18  20  22  24  26  28  30  32  34\n",
      "  36  38  40  42  44  46  48  50  52  54  56  58  60  62  64  66  68  70\n",
      "  72  74  76  78  80  82  84  86  88  90  92  94  96  98 100]\n"
     ]
    }
   ],
   "source": [
    "import numpy as np\n",
    "my_arr = np.arange(51)\n",
    "my_list = list(range(51))\n",
    "print(\"My List :\",my_list)\n",
    "#print(my_list)\n",
    "%time for _ in range(10): my_arr2 = my_arr*2\n",
    "%time for _ in range(10): my_list2= [x*2 for x in my_list]\n",
    "print(my_list2)\n",
    "print(my_arr2)\n"
   ]
  },
  {
   "cell_type": "markdown",
   "metadata": {},
   "source": [
    "### 4.1 : TheNumPy ndarray : A Multidimentional Array Object"
   ]
  },
  {
   "cell_type": "code",
   "execution_count": 11,
   "metadata": {},
   "outputs": [
    {
     "name": "stdout",
     "output_type": "stream",
     "text": [
      "[[ 0.44660916  1.33927572 -1.16307576]\n",
      " [-0.01755719  0.18676192 -0.5983767 ]]\n",
      "[[  4.46609165  13.39275722 -11.63075756]\n",
      " [ -0.17557191   1.86761923  -5.98376705]]\n",
      "[[ 0.89321833  2.67855144 -2.32615151]\n",
      " [-0.03511438  0.37352385 -1.19675341]]\n",
      "Shape of the array: (2, 3)\n",
      "float64\n",
      "[6.  7.5 8.  0.  1. ]\n",
      "[[1 2 3 4]\n",
      " [5 6 7 8]]\n",
      "2\n",
      "(2, 4)\n",
      "int32 float64\n",
      "[0. 0. 0. 0. 0. 0. 0. 0. 0. 0.]\n",
      "[[0. 0. 0. 0. 0. 0.]\n",
      " [0. 0. 0. 0. 0. 0.]\n",
      " [0. 0. 0. 0. 0. 0.]]\n",
      "[[[0. 0. 0. 0. 0. 0.]\n",
      "  [0. 0. 0. 0. 0. 0.]\n",
      "  [0. 0. 0. 0. 0. 0.]]\n",
      "\n",
      " [[0. 0. 0. 0. 0. 0.]\n",
      "  [0. 0. 0. 0. 0. 0.]\n",
      "  [0. 0. 0. 0. 0. 0.]]]\n",
      "[[[1. 1. 1. 1. 1. 1.]\n",
      "  [1. 1. 1. 1. 1. 1.]\n",
      "  [1. 1. 1. 1. 1. 1.]]\n",
      "\n",
      " [[1. 1. 1. 1. 1. 1.]\n",
      "  [1. 1. 1. 1. 1. 1.]\n",
      "  [1. 1. 1. 1. 1. 1.]]]\n",
      "[ 0  1  2  3  4  5  6  7  8  9 10 11 12 13 14]\n",
      "[[1. 0. 0. 0.]\n",
      " [0. 1. 0. 0.]\n",
      " [0. 0. 1. 0.]\n",
      " [0. 0. 0. 1.]]\n"
     ]
    }
   ],
   "source": [
    "import numpy as np\n",
    "data=np.random.randn(2,3)\n",
    "print(data)\n",
    "print(data*10)\n",
    "print(data+data)\n",
    "print(\"Shape of the array:\",data.shape)\n",
    "print(data.dtype) \n",
    "\n",
    "### Creating ndarrays :::\n",
    "\n",
    "data1 = [6,7.5,8,0,1]\n",
    "arr1=np.array(data1)\n",
    "print(arr1)\n",
    "data2 = [[1,2,3,4,],[5,6,7,8]]\n",
    "arr2 = np.array(data2) #data2 is list of lists(2D)\n",
    "print(arr2)\n",
    "m=arr2.ndim\n",
    "print(m)\n",
    "print(arr2.shape)\n",
    "o=arr2.dtype\n",
    "p=arr1.dtype\n",
    "print(o,p)\n",
    "a=np.zeros(10)\n",
    "print(a)\n",
    "a=np.zeros((3,6))\n",
    "print(a)\n",
    "a=np.zeros((2,3,6))\n",
    "print(a)\n",
    "a=np.ones((2,3,6))\n",
    "print(a)\n",
    "a=np.arange(15)\n",
    "print(a)\n",
    "a=np.eye((4))\n",
    "print(a)"
   ]
  },
  {
   "cell_type": "markdown",
   "metadata": {},
   "source": [
    "### Data types of ndarrays:"
   ]
  },
  {
   "cell_type": "code",
   "execution_count": 13,
   "metadata": {},
   "outputs": [
    {
     "name": "stdout",
     "output_type": "stream",
     "text": [
      "[1. 2. 3.]\n",
      "float64\n",
      "[1 2 3]\n",
      "int32\n",
      "[1. 2. 3.]\n",
      "float64\n",
      "[3.5 6.5 7.5 8.5] float64\n",
      "[3 6 7 8] int64\n",
      "[b'3.5' b'6.5' b'7.5' b'8.5'] |S3\n",
      "[3.5 6.5 7.5 8.5]\n",
      "|S3\n",
      "[[1. 2. 3.]\n",
      " [4. 5. 6.]]\n",
      "[[ 1.  4.  9.]\n",
      " [16. 25. 36.]]\n",
      "[[0. 0. 0.]\n",
      " [0. 0. 0.]]\n",
      "[[1.         0.5        0.33333333]\n",
      " [0.25       0.2        0.16666667]]\n",
      "[[1.         1.41421356 1.73205081]\n",
      " [2.         2.23606798 2.44948974]]\n",
      "[[ 0.  4.  1.]\n",
      " [ 7.  2. 12.]]\n",
      "[[ True False  True]\n",
      " [False  True False]]\n"
     ]
    }
   ],
   "source": [
    "arr1 = np.array([1,2,3],dtype = np.float64)\n",
    "arr2 = np.array([1,2,3],dtype = np.int32)\n",
    "print(arr1)\n",
    "print(arr1.dtype)\n",
    "print(arr2)\n",
    "print(arr2.dtype)\n",
    "float_arr2=arr2.astype(np.float64)\n",
    "print(float_arr2)\n",
    "print(float_arr2.dtype)\n",
    "arr4=np.array([3.5,6.5,7.5,8.5])\n",
    "print(arr4,arr4.dtype)\n",
    "arr4=arr4.astype(np.int64)\n",
    "print(arr4,arr4.dtype)\n",
    "arr5=np.array([\"3.5\",'6.5','7.5','8.5'],dtype =np.string_)\n",
    "print(arr5,arr5.dtype)\n",
    "print(arr5.astype(np.float64))\n",
    "print(arr5.dtype)\n",
    "\n",
    "### Arithmetic with NumPy Arrays :::\n",
    "\n",
    "arr = np.array([[1.,2.,3.],[4.,5.,6.]])\n",
    "print(arr)\n",
    "print(arr*arr)\n",
    "print(arr-arr)\n",
    "print(1/arr)\n",
    "print(arr**0.5)\n",
    "arr2=np.array([[0.,4.,1.],[7.,2.,12.]])\n",
    "print(arr2)\n",
    "print(arr>arr2)\n"
   ]
  },
  {
   "cell_type": "markdown",
   "metadata": {},
   "source": [
    "## Basic Indexing & Slicing :"
   ]
  },
  {
   "cell_type": "code",
   "execution_count": 7,
   "metadata": {},
   "outputs": [
    {
     "name": "stdout",
     "output_type": "stream",
     "text": [
      "[0 1 2 3 4 5 6 7 8 9]\n",
      "5\n",
      "[5 6 7]\n",
      "[ 0  1  2  3  4 12 12 12  8  9]\n",
      "[12 12 12]\n",
      "[   0    1    2    3    4   12 1234   12    8    9]\n",
      "[ 0  1  2  3  4 64 64 64  8  9]\n",
      "[4. 5. 6.]\n",
      "3.0\n",
      "[[[ 1  2  3]\n",
      "  [ 4  5  6]]\n",
      "\n",
      " [[ 7  8  9]\n",
      "  [10 11 12]]] (2, 2, 3)\n",
      "[[1 2 3]\n",
      " [4 5 6]]\n"
     ]
    }
   ],
   "source": [
    "import numpy as np\n",
    "arr=np.arange(10)\n",
    "print(arr)\n",
    "print(arr[5])\n",
    "print(arr[5:8])\n",
    "arr[5:8]=12\n",
    "print(arr)\n",
    "arr_slice = arr[5:8]\n",
    "print(arr_slice)\n",
    "arr_slice[1]=1234\n",
    "print(arr)\n",
    "arr_slice[:]=64\n",
    "print(arr)\n",
    "arr = np.array([[1.,2.,3.],[4.,5.,6.]])\n",
    "print(arr[1])  \n",
    "print(arr[0][2])  #accessing the exact point\n",
    "arr3d = np.array([[[1,2,3],[4,5,6]],[[7,8,9],[10,11,12]]])\n",
    "print(arr3d,arr3d.shape)\n",
    "print(arr3d[0])"
   ]
  }
 ],
 "metadata": {
  "kernelspec": {
   "display_name": "Python 3",
   "language": "python",
   "name": "python3"
  },
  "language_info": {
   "codemirror_mode": {
    "name": "ipython",
    "version": 3
   },
   "file_extension": ".py",
   "mimetype": "text/x-python",
   "name": "python",
   "nbconvert_exporter": "python",
   "pygments_lexer": "ipython3",
   "version": "3.7.3"
  }
 },
 "nbformat": 4,
 "nbformat_minor": 2
}
